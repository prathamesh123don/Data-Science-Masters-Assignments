{
 "cells": [
  {
   "cell_type": "markdown",
   "id": "4039e5e5-a675-47a1-bebd-a15b04676fa7",
   "metadata": {},
   "source": [
    "### Q1 What is database? Differentiate between SQL and NoSQL Database.\n",
    "\n",
    "\n",
    "A database is a collection of data that is organized so that it can be easily accessed, managed, and updated. Databases are used to store all sorts of data, from customer information to product inventory to financial records.\n",
    "\n",
    "SQL databases (Structured Query Language databases) use a relational model to store data. In a relational model, data is stored in tables, which are made up of rows and columns. \n",
    "\n",
    "NoSQL databases (non-relational databases) do not use a relational model to store data. Instead, they use different data models, such as key-value pairs, document stores, or graph databases. NoSQL databases are often used for storing large amounts of unstructured data, such as social media data or sensor data.\n",
    "\n",
    "The main differences between SQL and NoSQL databases are:\n",
    "\n",
    "Data model: SQL databases use a relational model, while NoSQL databases use different data models.\n",
    "Schema: SQL databases have a fixed schema, while NoSQL databases have a flexible schema.\n",
    "Query language: SQL databases use SQL, while NoSQL databases use different query languages, such as JSON, XML, or YAML.\n",
    "Scaling: SQL databases are typically vertically scalable, while NoSQL databases are typically horizontally scalable.\n"
   ]
  },
  {
   "cell_type": "markdown",
   "id": "41d652a9-a910-43ff-993f-1d41ef92eeb9",
   "metadata": {},
   "source": [
    "### Q2 What is DDL? Explain why CREATE,DROP, ALTER and TRUNCATE are used with an example.\n",
    "\n",
    "DDL stands for Data Definition Language. It is a set of commands used to define the structure of a database. DDL commands are used to create, alter, and drop database objects, such as tables, views, and stored procedures.\n",
    "\n",
    "\n",
    "The CREATE, DROP, ALTER, and TRUNCATE commands are used to manage the structure of a database. They are essential for creating, maintaining, and updating database objects.\n",
    "\n",
    "Here is an example of how these commands can be used together:\n",
    "\n",
    "Use the CREATE command to create a new table called products.\n",
    "Use the ALTER command to add a new column called price to the products table.\n",
    "Use the TRUNCATE command to delete all the rows from the products table.\n",
    "Use the DROP command to delete the products table.\n",
    "These commands can be used in any order, but it is important to use the DROP command last, as it will delete the table structure."
   ]
  },
  {
   "cell_type": "markdown",
   "id": "0ee83634-e225-4e5b-8dc4-2667714a67d2",
   "metadata": {},
   "source": [
    "### Q3. What is DML? Explain INSERT, UPDATE, and DELETE with an example.\n",
    "\n",
    "\n",
    "DML stands for Data Manipulation Language. It is a set of commands used to manipulate data in a database. DML commands are used to insert, update, and delete data from tables.\n",
    "\n",
    "INSERT: This command is used to insert new data into a table. For example, the following command inserts a new row into the customers table:\n",
    "\n",
    "UPDATE: This command is used to update existing data in a table. For example, the following command updates the email address for the customer with ID 1:\n",
    "\n",
    "DELETE: This command is used to delete data from a table. For example, the following command deletes the row with ID 1 from the customers table:"
   ]
  },
  {
   "cell_type": "markdown",
   "id": "d20961bd-7538-451e-9c9a-325c574138a6",
   "metadata": {},
   "source": [
    "### Q4. What is DQL? Explain SELECT with an example.\n",
    "\n",
    "DQL stands for Data Query Language. It is a set of commands used to retrieve data from a database. DQL commands are used to select, project, and filter data from tables.\n",
    "\n",
    "The SELECT command is the most basic DQL command. It is used to select data from a table\n",
    "\n",
    "For example, the following command selects the customer_id, first_name, and last_name columns from the customers table:\n",
    "SELECT customer_id, first_name, last_name\n",
    "FROM customers;\n",
    "\n",
    "### Q5. Explain Primary Key and Foreign Key.\n",
    "\n",
    "Primary key: A primary key is a column or a set of columns in a table whose values uniquely identify a row in the table. A relational database is designed to enforce the uniqueness of primary keys by allowing only one row with a given primary key value in a table.\n",
    "\n",
    "Foreign key: A foreign key is a column or a set of columns in a table whose values refer to the values of the primary key in another table. In order to add a row with a given foreign key value, there must exist a row in the related table with the same primary key value.\n",
    "\n",
    "### Q6. \n",
    "\n"
   ]
  }
 ],
 "metadata": {
  "kernelspec": {
   "display_name": "Python 3 (ipykernel)",
   "language": "python",
   "name": "python3"
  },
  "language_info": {
   "codemirror_mode": {
    "name": "ipython",
    "version": 3
   },
   "file_extension": ".py",
   "mimetype": "text/x-python",
   "name": "python",
   "nbconvert_exporter": "python",
   "pygments_lexer": "ipython3",
   "version": "3.10.8"
  }
 },
 "nbformat": 4,
 "nbformat_minor": 5
}

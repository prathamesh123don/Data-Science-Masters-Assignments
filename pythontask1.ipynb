{
 "cells": [
  {
   "cell_type": "markdown",
   "id": "98eb46ab-e96e-4dcc-808e-634eb0a1a4b5",
   "metadata": {},
   "source": [
    "### Q1\n",
    "\n",
    "Create a function which will take a list as an argument and return the product of all the numbers\n",
    "after creating a flat list.\n",
    "Use the below-given list as an argument for your function.\n",
    "list1 = [1,2,3,4, [44,55,66, True], False, (34,56,78,89,34), {1,2,3,3,2,1}, {1:34, \"key2\": [55, 67, 78, 89], 4: (45,\n",
    "22, 61, 34)}, [56, 'data science'], 'Machine Learning']"
   ]
  },
  {
   "cell_type": "code",
   "execution_count": 2,
   "id": "c08e2456-effd-4017-b206-e1d407643ee1",
   "metadata": {},
   "outputs": [
    {
     "name": "stdout",
     "output_type": "stream",
     "text": [
      "19679733278309744640\n"
     ]
    }
   ],
   "source": [
    "list1 = [1,2,3,4, [44,55,66, True], False, (34,56,78,89,34),\n",
    "         {1,2,3,3,2,1}, {1:34, \"key2\": [55, 67, 78, 89], \n",
    "        4: (45, 22, 61, 34)}, [56, 'data science'], 'Machine Learning']\n",
    "def prod(a):\n",
    "    flatList=[]\n",
    "    for item in a:\n",
    "        if type(item) ==list or type(item)==tuple or type(item)==set:\n",
    "            flatList.extend(item)\n",
    "        \n",
    "        elif type(item)==dict:\n",
    "            flatList.extend(item.values())\n",
    "        else:\n",
    "            flatList.append(item)\n",
    "        \n",
    "    product=1\n",
    "    for num in flatList:\n",
    "        if type(num) ==int or type(num)==float:\n",
    "            product=product*num\n",
    "    return product\n",
    "    \n",
    "result=prod(list1)\n",
    "print(result)"
   ]
  },
  {
   "cell_type": "markdown",
   "id": "499e0a95-9842-49fb-8cbe-c9abff24d16a",
   "metadata": {},
   "source": [
    "### Q2\n",
    "\n",
    "Write a python program for encrypting a message sent to you by your friend. The logic of encryption\n",
    "should be such that, for a the output should be z. For b, the output should be y. For c, the output should\n",
    "be x respectively. Also, the whitespace should be replaced with a dollar sign. Keep the punctuation\n",
    "marks unchanged."
   ]
  },
  {
   "cell_type": "code",
   "execution_count": 15,
   "id": "0ca24b4d-6bf1-4f89-9ba9-33a563845ccf",
   "metadata": {},
   "outputs": [
    {
     "data": {
      "text/plain": [
       "219"
      ]
     },
     "execution_count": 15,
     "metadata": {},
     "output_type": "execute_result"
    }
   ],
   "source": [
    "122+97"
   ]
  },
  {
   "cell_type": "code",
   "execution_count": 17,
   "id": "1bf60f5d-1b32-4a0c-98b0-45f90f45ec56",
   "metadata": {},
   "outputs": [
    {
     "name": "stdin",
     "output_type": "stream",
     "text": [
      "Enter the message you want to encrypt I want to become a Data Scientist\n"
     ]
    },
    {
     "name": "stdout",
     "output_type": "stream",
     "text": [
      "i want to become a data scientist\n",
      "r$dzmg$gl$yvxlnv$z$wzgz$hxrvmgrhg\n"
     ]
    }
   ],
   "source": [
    "a=input(\"Enter the message you want to encrypt\")\n",
    "\n",
    "b=a.lower()\n",
    "print(b)\n",
    "string=''\n",
    "for item in b:\n",
    "    if item.isalpha() or item.islower():\n",
    "        counterpart=chr(219-ord(item))\n",
    "        \n",
    "    elif item.isspace():\n",
    "        counterpart='$'\n",
    "    else:\n",
    "        counterpart=item\n",
    "    string=string+counterpart\n",
    "\n",
    "\n",
    "print(string)"
   ]
  },
  {
   "cell_type": "code",
   "execution_count": null,
   "id": "f2dfae27-1182-4e4a-bf67-404f06624579",
   "metadata": {},
   "outputs": [],
   "source": []
  }
 ],
 "metadata": {
  "kernelspec": {
   "display_name": "Python 3 (ipykernel)",
   "language": "python",
   "name": "python3"
  },
  "language_info": {
   "codemirror_mode": {
    "name": "ipython",
    "version": 3
   },
   "file_extension": ".py",
   "mimetype": "text/x-python",
   "name": "python",
   "nbconvert_exporter": "python",
   "pygments_lexer": "ipython3",
   "version": "3.10.8"
  }
 },
 "nbformat": 4,
 "nbformat_minor": 5
}

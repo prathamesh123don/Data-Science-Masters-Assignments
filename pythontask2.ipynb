{
 "cells": [
  {
   "cell_type": "markdown",
   "id": "a21ac17c-5573-4851-861e-180514c3279d",
   "metadata": {},
   "source": [
    "### Q1\n",
    "You are writing code for a company. The requirement of the company is that you create a python\n",
    "function that will check whether the password entered by the user is correct or not. The function should\n",
    "take the password as input and return the string “Valid Password” if the entered password follows the\n",
    "below-given password guidelines else it should return “Invalid Password”.\n",
    "Note: 1. The Password should contain at least two uppercase letters and at least two lowercase letters.\n",
    "2. The Password should contain at least a number and three special characters.\n",
    "3. The length of the password should be 10 characters long."
   ]
  },
  {
   "cell_type": "code",
   "execution_count": 2,
   "id": "e3cd4b19-8cd6-4d8a-802d-0199714054fb",
   "metadata": {},
   "outputs": [
    {
     "name": "stdin",
     "output_type": "stream",
     "text": [
      "Enter the password AApr1$@#67\n"
     ]
    },
    {
     "data": {
      "text/plain": [
       "'Valid Password'"
      ]
     },
     "execution_count": 2,
     "metadata": {},
     "output_type": "execute_result"
    }
   ],
   "source": [
    "import re\n",
    "\n",
    "def check(password):\n",
    "    if len(password)!=10:\n",
    "        return \"Invalid Password\"\n",
    "    \n",
    "    if len(re.findall(r'[A-Z]',password)) <2:\n",
    "        return \"Invalid Password\"\n",
    "    \n",
    "    if len(re.findall(r'[a-z]',password))<2:\n",
    "        return \"Invalid Password\"\n",
    "    \n",
    "    if len(re.findall(r'[0-9]',password))<1:\n",
    "        return \"Invalid Password\"\n",
    "    \n",
    "    if len(re.findall(r'[!@#$%^&*()<>?:{}|<>]',password))<3:\n",
    "        return \"Invalid Password\"\n",
    "    \n",
    "    return \"Valid Password\"\n",
    "\n",
    "a=input(\"Enter the password\")\n",
    "check(a)"
   ]
  },
  {
   "cell_type": "markdown",
   "id": "b5d48515-f722-451b-b3ab-381def2fd61f",
   "metadata": {},
   "source": [
    "### Q2. \n",
    "Solve the below-given questions using at least one of the following:\n",
    "1. Lambda functioJ\n",
    "2. Filter functioJ\n",
    "3. Zap functioJ\n",
    "4. List ComprehensioI\n",
    "B Check if the string starts with a particular letterY\n",
    "B Check if the string is numericY\n",
    "B Sort a list of tuples having fruit names and their quantity. [(\"mango\",99),(\"orange\",80), (\"grapes\", 1000)-\n",
    "B Find the squares of numbers from 1 to 10Y\n",
    "B Find the cube root of numbers from 1 to 10Y\n",
    "B Check if a given number is evenY\n",
    "B Filter odd numbers from the given list.\n",
    "[1,2,3,4,5,6,7,8,9,10-\n",
    "B Sort a list of integers into positive and negative integers lists.\n",
    "[1,2,3,4,5,6,-1,-2,-3,-4,-5,0]"
   ]
  },
  {
   "cell_type": "code",
   "execution_count": 3,
   "id": "2edc4204-aee4-4b63-a98a-8acac39a0776",
   "metadata": {},
   "outputs": [
    {
     "name": "stdout",
     "output_type": "stream",
     "text": [
      "['apple']\n"
     ]
    }
   ],
   "source": [
    "'''Check if the string startswith method and lambda function'''\n",
    "stringList=[\"apple\", \"banana\", \"cherry\", \"dates\"]\n",
    "letter=\"a\"\n",
    "result=list(filter(lambda x: x.startswith(letter),stringList))\n",
    "print(result)\n",
    "\n"
   ]
  },
  {
   "cell_type": "code",
   "execution_count": 5,
   "id": "4a9a9ecf-2ec1-4202-8df3-b48f33c1cff3",
   "metadata": {},
   "outputs": [
    {
     "name": "stdout",
     "output_type": "stream",
     "text": [
      "['123', '789']\n"
     ]
    }
   ],
   "source": [
    "'''Check the string is numeric'''\n",
    "stringList1 = [\"apple\", \"123\", \"cherry\", \"789\"]\n",
    "\n",
    "result=list(filter(lambda x: x.isnumeric(),stringList1))\n",
    "print(result)\n"
   ]
  },
  {
   "cell_type": "code",
   "execution_count": 6,
   "id": "d6c2a849-95be-4a4b-b41d-5301267f8560",
   "metadata": {},
   "outputs": [
    {
     "name": "stdout",
     "output_type": "stream",
     "text": [
      "[('orange', 80), ('mango', 99), ('grapes', 1000)]\n"
     ]
    }
   ],
   "source": [
    "'''Sort a list of tuples having fruit names and their quantity'''\n",
    "fruits=[(\"mango\", 99), (\"orange\", 80), (\"grapes\", 1000)]\n",
    "\n",
    "sortedFruits=sorted(fruits,key=lambda x:x[1])\n",
    "print(sortedFruits)\n",
    "\n"
   ]
  },
  {
   "cell_type": "code",
   "execution_count": 7,
   "id": "4b93b964-4c88-4e69-8447-bd51cec3d03e",
   "metadata": {},
   "outputs": [
    {
     "name": "stdout",
     "output_type": "stream",
     "text": [
      "[1, 4, 9, 16, 25, 36, 49, 64, 81, 100]\n"
     ]
    }
   ],
   "source": [
    "'''Finnd the square of the number from 1 to 10'''\n",
    "squares=[x**2 for x in range(1,11)]\n",
    "print(squares)"
   ]
  },
  {
   "cell_type": "code",
   "execution_count": 8,
   "id": "4468858d-9ef8-4450-94d4-648ec6b64ef3",
   "metadata": {},
   "outputs": [
    {
     "name": "stdout",
     "output_type": "stream",
     "text": [
      "[1.0, 1.2599210498948732, 1.4422495703074083, 1.5874010519681994, 1.7099759466766968, 1.8171205928321397, 1.912931182772389, 2.0, 2.080083823051904, 2.154434690031884]\n"
     ]
    }
   ],
   "source": [
    "'''find the cube root of the numbers from 1 to 10'''\n",
    "import math\n",
    "cubeRoots=[math.pow(x,1/3) for x in range(1,11)]\n",
    "print(cubeRoots)"
   ]
  },
  {
   "cell_type": "code",
   "execution_count": 9,
   "id": "7ca9e9dc-4d93-4526-af42-e0e578ef0731",
   "metadata": {},
   "outputs": [
    {
     "name": "stdout",
     "output_type": "stream",
     "text": [
      "False\n",
      "True\n"
     ]
    }
   ],
   "source": [
    "'''Check if the given number is even'''\n",
    "isEven=lambda x: x%2==0\n",
    "print(isEven(3))\n",
    "print(isEven(4))"
   ]
  },
  {
   "cell_type": "code",
   "execution_count": 11,
   "id": "51232fff-820a-47d8-b53b-4d888b5a69a2",
   "metadata": {},
   "outputs": [
    {
     "name": "stdout",
     "output_type": "stream",
     "text": [
      "[1, 3, 5, 7, 9]\n"
     ]
    }
   ],
   "source": [
    "'''Filter off numbers from the list'''\n",
    "numList=[1, 2, 3, 4, 5, 6, 7, 8, 9, 10]\n",
    "oddNums=list(filter(lambda x:x%2!=0,numList))\n",
    "print(oddNums)"
   ]
  },
  {
   "cell_type": "code",
   "execution_count": null,
   "id": "f498b1eb-c8e2-495c-a77d-6193ccf06f69",
   "metadata": {},
   "outputs": [],
   "source": [
    "'''Sort a list of integers into positive and negative integers lists'''\n",
    "numList1=[1, 2, 3, 4, 5, 6, -1, -2, -3, -4, -5, 0]\n",
    "\n",
    "positiveNums=[x for x in numList1 if x>0"
   ]
  }
 ],
 "metadata": {
  "kernelspec": {
   "display_name": "Python 3 (ipykernel)",
   "language": "python",
   "name": "python3"
  },
  "language_info": {
   "codemirror_mode": {
    "name": "ipython",
    "version": 3
   },
   "file_extension": ".py",
   "mimetype": "text/x-python",
   "name": "python",
   "nbconvert_exporter": "python",
   "pygments_lexer": "ipython3",
   "version": "3.10.8"
  }
 },
 "nbformat": 4,
 "nbformat_minor": 5
}

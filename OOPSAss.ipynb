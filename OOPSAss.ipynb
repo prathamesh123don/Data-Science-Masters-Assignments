{
 "cells": [
  {
   "cell_type": "markdown",
   "id": "fdd493f5-e2c9-4b64-8b06-3678ed637968",
   "metadata": {},
   "source": [
    "### Q1\n",
    "Class is blueprint or template for creating objects that define the properties and behaviors of those oebjects. An object is the instance of the classs, meaning its specific realization of the blueprint defined by the class.\n",
    "\n",
    "Class defines the characterstics of a group of objects, including its data members and its member functions."
   ]
  },
  {
   "cell_type": "code",
   "execution_count": 1,
   "id": "2f6e63bc-137a-4bdc-ab30-9d3d02aad821",
   "metadata": {},
   "outputs": [],
   "source": [
    "'''Example in Python'''\n",
    "\n",
    "class Person:\n",
    "    def __init__(self, name, age):\n",
    "        self.name = name\n",
    "        self.age = age\n",
    "        \n",
    "    def greet(self):\n",
    "        print(\"Hello, my name is \" + self.name)\n"
   ]
  },
  {
   "cell_type": "markdown",
   "id": "92c8ae3f-b8cc-4eb2-b10f-76d9bc6cb199",
   "metadata": {},
   "source": [
    "### Q2\n",
    "What are the 4 pillars of OOPs?\n",
    "\n",
    "Encapsulation: The practice of hiding internal implementation details of a class and providing access to its data and methods only through a well defined interface. It is achieved through the use of public, protected, and private access modifiers.\n",
    "\n",
    "Inheritance: The ability of class to inherit properties and methods from its parent class. We can create a subclass that inherits from a sperclass using the class keyword and the name of the superclass in parentheses.\n",
    "\n",
    "Polymorphism: The ability of an object to take on many forms. Its achieved through the use of method of overloading and method overriding.\n",
    "\n",
    "Abstraction: The practice of representing complex real-world systems in a simplified manner. It is acheived through the use of abstract classes and interfaces, which define the behavior of a class without providng its implementation details."
   ]
  },
  {
   "cell_type": "markdown",
   "id": "5ea0be5e-66f5-4acc-b49a-0864271bcb9a",
   "metadata": {},
   "source": [
    "### Q3\n",
    "Explain why the __init__() function is used. Give a suitable example.\n",
    "\n",
    "It is used to initialize the object's attributes and perform any other setup that may be required.\n"
   ]
  },
  {
   "cell_type": "code",
   "execution_count": 2,
   "id": "05e5ba2b-8041-4d28-96d3-4821fe8473fb",
   "metadata": {},
   "outputs": [],
   "source": [
    "class Person:\n",
    "    def __init__(self, name, age):\n",
    "        self.name = name\n",
    "        self.age = age\n",
    "        \n",
    "    def greet(self):\n",
    "        print(\"Hello, my name is \" + self.name)\n"
   ]
  },
  {
   "cell_type": "markdown",
   "id": "23697bff-5836-455d-a63f-6585ec20d38d",
   "metadata": {},
   "source": [
    "### Q4\n",
    "\n",
    "Why self is used in OOPs?\n",
    "\n",
    "Self is a special parameter that refers to the instance of a class. It is used to access the attributes and methods of the instance from withing the class.\n",
    "\n",
    "\n"
   ]
  },
  {
   "cell_type": "markdown",
   "id": "de159bba-3e8c-44d0-baaf-9cecae32876b",
   "metadata": {},
   "source": [
    "### Q5\n",
    "\n",
    "What is inhertance? Give an example for each type of inheritance.\n",
    "\n",
    "The mechanism of creating a new class from an existing class. The new class, called the subclass or derived class inherits proerties and behavior from the existing class, called the superclass or base class.\n",
    "\n",
    "Inheritance is an important aspect of OOP because it allows classes to be organizes in a hierarchial manner, where more specific subclasses inherit from more general superclasses.\n",
    "\n",
    "There are four types of inheritance in Python: \n",
    "\n",
    "1. Single Inhertance:\n",
    "Subclass inherits single superclas.\n",
    "2. Multiple Inheritance:\n",
    "Subclass inherits multiple superclass. \n",
    "3. Hier"
   ]
  }
 ],
 "metadata": {
  "kernelspec": {
   "display_name": "Python 3 (ipykernel)",
   "language": "python",
   "name": "python3"
  },
  "language_info": {
   "codemirror_mode": {
    "name": "ipython",
    "version": 3
   },
   "file_extension": ".py",
   "mimetype": "text/x-python",
   "name": "python",
   "nbconvert_exporter": "python",
   "pygments_lexer": "ipython3",
   "version": "3.10.8"
  }
 },
 "nbformat": 4,
 "nbformat_minor": 5
}

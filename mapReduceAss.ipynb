{
 "cells": [
  {
   "cell_type": "markdown",
   "id": "7dd97cb5-094f-47dd-994a-6b18a47f9007",
   "metadata": {},
   "source": [
    "### Q1\n",
    "Create a python program to sort the given list of tuples based on integer value using a\n",
    "lambda function.\n",
    "[('Sachin Tendulkar', 34357), ('Ricky Ponting', 27483), ('Jack Kallis', 25534), ('Virat Kohli', 24936)]"
   ]
  },
  {
   "cell_type": "code",
   "execution_count": 1,
   "id": "578a3e7a-6b09-4d6f-b49a-26562d945638",
   "metadata": {},
   "outputs": [
    {
     "name": "stdout",
     "output_type": "stream",
     "text": [
      "[('Virat Kohli', 24936), ('Jack Kallis', 25534), ('Ricky Ponting', 27483), ('Sachin Tendulkar', 34357)]\n"
     ]
    }
   ],
   "source": [
    "dict1= [('Sachin Tendulkar', 34357), ('Ricky Ponting', 27483), ('Jack Kallis', 25534), ('Virat Kohli', 24936)]\n",
    "sort_dict=sorted(dict1,key=lambda x:x[1])\n",
    "print(sort_dict)"
   ]
  },
  {
   "cell_type": "markdown",
   "id": "b766170b-7822-4966-9131-22779986dab2",
   "metadata": {},
   "source": [
    "### Q2\n",
    "Write a Python Program to find the squares of all the numbers in the given list of integers using\n",
    "lambda and map functions.\n",
    "[1, 2, 3, 4, 5, 6, 7, 8, 9, 10]"
   ]
  },
  {
   "cell_type": "code",
   "execution_count": 5,
   "id": "3fd15d72-3a30-4d28-8e52-da057a64669c",
   "metadata": {},
   "outputs": [
    {
     "data": {
      "text/plain": [
       "[1, 4, 9, 16, 25, 36, 49, 64, 81, 100]"
      ]
     },
     "execution_count": 5,
     "metadata": {},
     "output_type": "execute_result"
    }
   ],
   "source": [
    "l=[1, 2, 3, 4, 5, 6, 7, 8, 9, 10]\n",
    "\n",
    "list(map(lambda x: x*x,l))\n"
   ]
  },
  {
   "cell_type": "markdown",
   "id": "b21112b5-eb75-4481-842b-1315e4f2798a",
   "metadata": {},
   "source": [
    "### Q3\n",
    "Write a python program to convert the given list of integers into a tuple of strings. Use map and\n",
    "lambda functions\n",
    "Given String: [1, 2, 3, 4, 5, 6, 7, 8, 9, 10]\n",
    "Expected output: ('1', '2', '3', '4', '5', '6', '7', '8', '9', '10')"
   ]
  },
  {
   "cell_type": "code",
   "execution_count": 7,
   "id": "9ad3a3bf-7f5a-4812-8577-f2ba4428af5a",
   "metadata": {},
   "outputs": [
    {
     "data": {
      "text/plain": [
       "('1', '2', '3', '4', '5', '6', '7', '8', '9', '10')"
      ]
     },
     "execution_count": 7,
     "metadata": {},
     "output_type": "execute_result"
    }
   ],
   "source": [
    "l2=[1, 2, 3, 4, 5, 6, 7, 8, 9, 10]\n",
    "tuple(map(lambda x: str(x),l2))"
   ]
  },
  {
   "cell_type": "markdown",
   "id": "635eee78-a798-4ccc-9800-9df55f62f58f",
   "metadata": {},
   "source": [
    "### Q4\n",
    "Write a python program using reduce function to compute the product of a list containing numbers\n",
    "from 1 to 25."
   ]
  },
  {
   "cell_type": "code",
   "execution_count": 12,
   "id": "717c001a-8269-4511-b2ca-b08bf2f1ca71",
   "metadata": {},
   "outputs": [
    {
     "name": "stdout",
     "output_type": "stream",
     "text": [
      "[1, 2, 3, 4, 5, 6, 7, 8, 9, 10, 11, 12, 13, 14, 15, 16, 17, 18, 19, 20, 21, 22, 23, 24, 25]\n"
     ]
    },
    {
     "data": {
      "text/plain": [
       "15511210043330985984000000"
      ]
     },
     "execution_count": 12,
     "metadata": {},
     "output_type": "execute_result"
    }
   ],
   "source": [
    "from functools import reduce\n",
    "l3=[]\n",
    "for i in range(1,26):\n",
    "    \n",
    "    l3.append(i)\n",
    "\n",
    "print(l3)\n",
    "    \n",
    "reduce(lambda x,y: x*y,l3)"
   ]
  },
  {
   "cell_type": "markdown",
   "id": "6002c1f6-39b3-45ba-88d7-c6d19cb21c51",
   "metadata": {},
   "source": [
    "### Q5\n",
    "Write a python program to filter the numbers in a given list that are divisible by 2 and 3 using the\n",
    "filter function.\n",
    "[2, 3, 6, 9, 27, 60, 90, 120, 55, 46]"
   ]
  },
  {
   "cell_type": "code",
   "execution_count": 16,
   "id": "bae6ec21-5c1e-4939-bad0-a84f44231a4c",
   "metadata": {},
   "outputs": [
    {
     "data": {
      "text/plain": [
       "[6, 60, 90, 120]"
      ]
     },
     "execution_count": 16,
     "metadata": {},
     "output_type": "execute_result"
    }
   ],
   "source": [
    "l4=[2, 3, 6, 9, 27, 60, 90, 120, 55, 46]\n",
    "list(filter(lambda x: x%6==0,l4))"
   ]
  },
  {
   "cell_type": "markdown",
   "id": "0603e7c2-7825-48f2-a228-8165cd5e012a",
   "metadata": {},
   "source": [
    "### Q6\n",
    "Write a python program to find palindromes in the given list of strings using lambda and filter\n",
    "function.\n",
    "['python', 'php', 'aba', 'radar', 'level']"
   ]
  },
  {
   "cell_type": "code",
   "execution_count": 17,
   "id": "147d1d2f-9ac7-4aac-b2e8-0f3de634f37d",
   "metadata": {},
   "outputs": [
    {
     "data": {
      "text/plain": [
       "['php', 'aba', 'radar', 'level']"
      ]
     },
     "execution_count": 17,
     "metadata": {},
     "output_type": "execute_result"
    }
   ],
   "source": [
    "l5=['python', 'php', 'aba', 'radar', 'level']\n",
    "list(filter(lambda x: x==x[::-1],l5))\n"
   ]
  },
  {
   "cell_type": "code",
   "execution_count": null,
   "id": "608eba1c-ffef-402e-9aeb-6749d3e35c0e",
   "metadata": {},
   "outputs": [],
   "source": []
  }
 ],
 "metadata": {
  "kernelspec": {
   "display_name": "Python 3 (ipykernel)",
   "language": "python",
   "name": "python3"
  },
  "language_info": {
   "codemirror_mode": {
    "name": "ipython",
    "version": 3
   },
   "file_extension": ".py",
   "mimetype": "text/x-python",
   "name": "python",
   "nbconvert_exporter": "python",
   "pygments_lexer": "ipython3",
   "version": "3.10.8"
  }
 },
 "nbformat": 4,
 "nbformat_minor": 5
}

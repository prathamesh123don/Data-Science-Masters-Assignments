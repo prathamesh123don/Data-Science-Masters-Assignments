{
 "cells": [
  {
   "cell_type": "markdown",
   "id": "4f07e114-036a-4357-b0b0-4af4683c8c5f",
   "metadata": {},
   "source": [
    "### Q1\n",
    "Create a vehicle class with an init method having instance variables as name_of_vehicle, max_speed\n",
    "and average_of_vehicle."
   ]
  },
  {
   "cell_type": "code",
   "execution_count": 7,
   "id": "fd7337f6-ae9c-4dc2-9a6a-aab1ef0796e1",
   "metadata": {},
   "outputs": [],
   "source": [
    "class vehicle:\n",
    "    def __init__(self,name_of_vehicles,max_speed,average_of_vehicle):\n",
    "        self.name_of_vehicles=name_of_vehicles\n",
    "        self.max_speed=max_speed\n",
    "        self.average_of_vehicle=average_of_vehicle\n",
    "        \n",
    "    def get_info(self):\n",
    "        return f\"{self.name_of_vehicles} {self.max_speed} {self.average_of_vehicle}\"\n"
   ]
  },
  {
   "cell_type": "markdown",
   "id": "13e5ca43-eca4-4957-a10a-73cfac51341e",
   "metadata": {},
   "source": [
    "### Q2\n",
    "Create a child class car from the vehicle class created in Que 1, which will inherit the vehicle class.\n",
    "Create a method named seating_capacity which takes capacity as an argument and returns the name of\n",
    "the vehicle and its seating capacity."
   ]
  },
  {
   "cell_type": "code",
   "execution_count": 8,
   "id": "1522f4c1-e841-454a-b379-35d8ff0fca2b",
   "metadata": {},
   "outputs": [],
   "source": [
    "class child(vehicle):\n",
    "    def seating_capacity(self,capacity):\n",
    "        return f\"{self.get_info()} has a seating capacity of {capacity} people\"\n",
    "        "
   ]
  },
  {
   "cell_type": "code",
   "execution_count": 9,
   "id": "fe7ecb3b-968d-4386-9f0c-1979e7805a31",
   "metadata": {},
   "outputs": [
    {
     "name": "stdout",
     "output_type": "stream",
     "text": [
      "toyota 234 21 has a seating capacity of 55 people\n"
     ]
    }
   ],
   "source": [
    "my_car=child(\"toyota\",234,21)\n",
    "print(my_car.seating_capacity(55))"
   ]
  },
  {
   "cell_type": "markdown",
   "id": "24b4da87-d46e-4765-b6e0-da7750dd7773",
   "metadata": {},
   "source": [
    "### Q3\n",
    "\n",
    "What is multiple heritance? Write a python code to demonstrate multiple inheritance.\n",
    "\n",
    "Multiple inheritance is a feature in OOP where a class can inherit from more than one parent class. This allows the child class to inherit attributes and methods from multiple parent class."
   ]
  },
  {
   "cell_type": "code",
   "execution_count": 15,
   "id": "bf525d0a-8be7-48aa-9cb1-e36c8eeeff48",
   "metadata": {},
   "outputs": [],
   "source": [
    "class animal:\n",
    "    def __init__(self, species):\n",
    "        self.species=species\n",
    "        \n",
    "    def eat(self):\n",
    "        print(\"This animal is eating very nicely\")\n",
    "\n",
    "\n",
    "\n"
   ]
  },
  {
   "cell_type": "code",
   "execution_count": 16,
   "id": "926b60af-d3d6-47f2-86d9-42f12517509f",
   "metadata": {},
   "outputs": [],
   "source": [
    "class mammal:\n",
    "    def __init__(self,name):\n",
    "        self.name=name\n",
    "        \n",
    "    def run(self):\n",
    "        print(\" the mammal is running\")\n"
   ]
  },
  {
   "cell_type": "code",
   "execution_count": 17,
   "id": "77ab3a28-c540-430f-98b2-8db0c5b5276e",
   "metadata": {},
   "outputs": [],
   "source": [
    "class cat(animal,mammal):\n",
    "    def __init__(self,name,species):\n",
    "        animal.__init__(self,species)\n",
    "        mammal.__init__(self,name)\n",
    "        \n",
    "    def meow(self):\n",
    "        print(\"The cat is meowing\")\n",
    "        "
   ]
  },
  {
   "cell_type": "code",
   "execution_count": 18,
   "id": "e2b2b223-41bf-4330-ba1a-ddc820bb850c",
   "metadata": {},
   "outputs": [
    {
     "name": "stdout",
     "output_type": "stream",
     "text": [
      "Species of my cat is leo\n",
      "This animal is eating very nicely\n",
      "Name of my cat is Jerry\n",
      " the mammal is running\n"
     ]
    }
   ],
   "source": [
    "myCat=cat(\"Jerry\",\"leo\")\n",
    "print(\"Species of my cat is\",myCat.species)\n",
    "myCat.eat()\n",
    "\n",
    "print(\"Name of my cat is\",myCat.name)\n",
    "myCat.run()"
   ]
  },
  {
   "cell_type": "markdown",
   "id": "dc45a266-25e1-446b-adcb-7bd9bab9559b",
   "metadata": {},
   "source": [
    "#### Q4\n",
    "What are getter and setter in python? Create a class and create a getter and a setter method in this\n",
    "class."
   ]
  },
  {
   "cell_type": "markdown",
   "id": "45fa7cf9-6186-48c1-bdcc-994219a4acf9",
   "metadata": {},
   "source": [
    "Getter and settser are methods that allow use to access and modify the attributes of a class. They are used to implement the concept of encapsulation in OOP , which means that the internal workings of a class are hidden from the outside world.\n",
    "\n",
    "A getter method is used to retrieve the value of an attribute , and a setter method is used to set the value of an attribute."
   ]
  },
  {
   "cell_type": "code",
   "execution_count": 2,
   "id": "40dd9c94-5794-4ff5-afa1-3099d9136322",
   "metadata": {},
   "outputs": [
    {
     "name": "stdout",
     "output_type": "stream",
     "text": [
      "Johnny\n",
      "23\n",
      "yo\n",
      "34\n"
     ]
    }
   ],
   "source": [
    "class person:\n",
    "    def __init__(self, name,age):\n",
    "        self._name=name\n",
    "        self._age=age\n",
    "        \n",
    "    def get_name(self):\n",
    "        return self._name\n",
    "    \n",
    "    def set_name(self, name):\n",
    "        self._name=name\n",
    "    \n",
    "    def get_age(self):\n",
    "        return self._age\n",
    "    \n",
    "    def set_age(self, age):\n",
    "        if age>0:\n",
    "            self._age=age\n",
    "            \n",
    "person1=person(\"Johnny\",23)\n",
    "\n",
    "print(person1.get_name())\n",
    "print(person1.get_age())\n",
    "\n",
    "person1.set_name(\"yo\")\n",
    "person1.set_age(34)\n",
    "\n",
    "print(person1.get_name())\n",
    "print(person1.get_age())"
   ]
  },
  {
   "cell_type": "markdown",
   "id": "f809476c-a3b2-4f36-817c-286f251c473e",
   "metadata": {},
   "source": [
    "### Q5.\n",
    "What is method overriding in python? Write a python code to demonstrate method overriding.\n",
    "\n",
    "Method overriding is a feature in object-oriented programming where a child class can provide its own implementation of a method that is already defined in its parent class. This allows the child class to modify or extend the behavior of the parent class."
   ]
  },
  {
   "cell_type": "code",
   "execution_count": null,
   "id": "cf633ad4-0708-47ad-8a3b-82eef6f0a0a2",
   "metadata": {},
   "outputs": [],
   "source": []
  }
 ],
 "metadata": {
  "kernelspec": {
   "display_name": "Python 3 (ipykernel)",
   "language": "python",
   "name": "python3"
  },
  "language_info": {
   "codemirror_mode": {
    "name": "ipython",
    "version": 3
   },
   "file_extension": ".py",
   "mimetype": "text/x-python",
   "name": "python",
   "nbconvert_exporter": "python",
   "pygments_lexer": "ipython3",
   "version": "3.10.8"
  }
 },
 "nbformat": 4,
 "nbformat_minor": 5
}

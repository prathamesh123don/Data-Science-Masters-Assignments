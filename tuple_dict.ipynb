{
 "cells": [
  {
   "cell_type": "markdown",
   "id": "7ef5558e-7d1c-4657-a910-62d3acc71151",
   "metadata": {
    "tags": []
   },
   "source": [
    "## Q1 "
   ]
  },
  {
   "cell_type": "markdown",
   "id": "23a8944f-a7c1-4f12-bae4-8714ff955186",
   "metadata": {},
   "source": [
    "Tuples are immutable, ordered , Herteogeneous, nested, iterable, Hashable and Efficient for use."
   ]
  },
  {
   "cell_type": "markdown",
   "id": "8595e286-82c7-4ca7-ad5d-b75b049c2e4f",
   "metadata": {},
   "source": [
    "## Q2"
   ]
  },
  {
   "cell_type": "markdown",
   "id": "afe6b576-3c00-4b2c-9821-cc2e3fcc14e2",
   "metadata": {},
   "source": [
    "The two in-built methods for tuples in Python are \n",
    "1. count.\n",
    "2. index\n",
    "The reason why tuples have only two built in methods as compared to lists is because tuples are immutable, while lists are mutable. \n",
    "\n",
    "## Q3\n",
    "\n",
    "The collection datatype in Python that does not allow duplicate is set.\n",
    "Here is the code to remove the duplicates.\n"
   ]
  },
  {
   "cell_type": "code",
   "execution_count": 7,
   "id": "6d63c27c-eee7-42ec-b98b-3f4e56563154",
   "metadata": {},
   "outputs": [
    {
     "name": "stdout",
     "output_type": "stream",
     "text": [
      "[1, 2, 3, 4]\n"
     ]
    }
   ],
   "source": [
    "my_list =[1, 1, 1, 2, 1, 3, 1, 4, 2, 1, 2, 2, 2, 3, 2, 4, 3, 1, 3, 2, 3, 3, 3, 4, 4, 1, 4, 2, 4, 3, 4, 4]\n",
    "my_set = set(my_list)\n",
    "without_duplicates = list(my_set)\n",
    "print(without_duplicates) # Output: [1, 2, 3, 4, 5]\n"
   ]
  },
  {
   "cell_type": "markdown",
   "id": "1afc357f-89c8-42d3-a365-9810a557db40",
   "metadata": {},
   "source": [
    "## Q4\n",
    "\n",
    "The union and update methods in Python are used to combine two or more sets.\n",
    "union: returns a new set that contains all the unique elements from all the sets that were passes as arguments to the method.\n",
    "\n",
    "update: It add all the unique elements from one set to another set.It modifies the original set.\n",
    "\n",
    "## Q5\n",
    "\n",
    "The collection of key value pairs. They are ordered.\n",
    "\n",
    "## Q6\n",
    "\n",
    "Yes we can \n",
    "Here is and example\n",
    "\n"
   ]
  },
  {
   "cell_type": "code",
   "execution_count": 8,
   "id": "994c52f2-e2a3-499c-b044-1573b9381bb6",
   "metadata": {},
   "outputs": [],
   "source": [
    "my_dict = {\"fruit\": {\"apple\": 2, \"banana\": 3, \"orange\": 4}}"
   ]
  },
  {
   "cell_type": "code",
   "execution_count": 9,
   "id": "92d83d07-2978-4e90-a1b8-3cc49db04b1f",
   "metadata": {},
   "outputs": [
    {
     "name": "stdout",
     "output_type": "stream",
     "text": [
      "{'fruit': {'apple': 2, 'banana': 3, 'orange': 4}}\n"
     ]
    }
   ],
   "source": [
    "print(my_dict)"
   ]
  },
  {
   "cell_type": "markdown",
   "id": "589472a6-de84-41c5-9d1a-7d1fff1d550f",
   "metadata": {},
   "source": [
    "## Q7\n"
   ]
  },
  {
   "cell_type": "code",
   "execution_count": 12,
   "id": "287c6d37-bd13-4de2-ab36-d71d8bc339d0",
   "metadata": {},
   "outputs": [
    {
     "name": "stdout",
     "output_type": "stream",
     "text": [
      "{'language': 'Python', 'course': 'Data Science Masters', 'topics': ['Python', 'Machine Learning', 'Deep Learning']}\n"
     ]
    }
   ],
   "source": [
    "dict1 = {'language' : 'Python', 'course': 'Data Science Masters'}\n",
    "dict1.setdefault(\"topics\",[\"Python\",\"Machine Learning\",\"Deep Learning\"])\n",
    "print(dict1)"
   ]
  },
  {
   "cell_type": "markdown",
   "id": "1e542bfb-62f7-4d63-8994-4839346fb0c6",
   "metadata": {},
   "source": [
    "## Q8\n",
    "dict.keys: This metho"
   ]
  }
 ],
 "metadata": {
  "kernelspec": {
   "display_name": "Python 3 (ipykernel)",
   "language": "python",
   "name": "python3"
  },
  "language_info": {
   "codemirror_mode": {
    "name": "ipython",
    "version": 3
   },
   "file_extension": ".py",
   "mimetype": "text/x-python",
   "name": "python",
   "nbconvert_exporter": "python",
   "pygments_lexer": "ipython3",
   "version": "3.10.8"
  }
 },
 "nbformat": 4,
 "nbformat_minor": 5
}

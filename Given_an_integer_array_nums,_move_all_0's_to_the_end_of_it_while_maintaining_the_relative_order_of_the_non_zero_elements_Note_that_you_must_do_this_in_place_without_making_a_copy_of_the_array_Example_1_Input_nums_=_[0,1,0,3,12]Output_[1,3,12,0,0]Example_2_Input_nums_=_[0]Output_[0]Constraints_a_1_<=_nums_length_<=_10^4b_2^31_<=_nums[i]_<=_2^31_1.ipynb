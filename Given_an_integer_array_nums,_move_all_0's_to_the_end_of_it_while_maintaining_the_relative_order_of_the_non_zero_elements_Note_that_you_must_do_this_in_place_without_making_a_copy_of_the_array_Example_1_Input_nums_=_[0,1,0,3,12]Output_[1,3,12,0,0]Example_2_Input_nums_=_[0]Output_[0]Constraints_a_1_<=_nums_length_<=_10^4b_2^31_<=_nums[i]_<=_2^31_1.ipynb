{
  "cells": [
    {
      "cell_type": "markdown",
      "metadata": {
        "id": "view-in-github",
        "colab_type": "text"
      },
      "source": [
        "<a href=\"https://colab.research.google.com/github/prathamesh123don/Data-Science-Masters-Assignments/blob/main/Given_an_integer_array_nums%2C_move_all_0's_to_the_end_of_it_while_maintaining_the_relative_order_of_the_non_zero_elements_Note_that_you_must_do_this_in_place_without_making_a_copy_of_the_array_Example_1_Input_nums_%3D_%5B0%2C1%2C0%2C3%2C12%5DOutput_%5B1%2C3%2C12%2C0%2C0%5DExample_2_Input_nums_%3D_%5B0%5DOutput_%5B0%5DConstraints_a_1_%3C%3D_nums_length_%3C%3D_10%5E4b_2%5E31_%3C%3D_nums%5Bi%5D_%3C%3D_2%5E31_1.ipynb\" target=\"_parent\"><img src=\"https://colab.research.google.com/assets/colab-badge.svg\" alt=\"Open In Colab\"/></a>"
      ]
    },
    {
      "cell_type": "markdown",
      "source": [
        "Sure, I can help you with that. Here is the Python code to solve this problem:"
      ],
      "metadata": {
        "id": "g3zWwwhYb40d"
      }
    },
    {
      "cell_type": "code",
      "source": [
        "def move_zeros(nums):\n",
        "  \"\"\"\n",
        "  Moves all 0's to the end of the array while maintaining the relative order of the non-zero elements.\n",
        "\n",
        "  Args:\n",
        "    nums: The array to be modified.\n",
        "\n",
        "  Returns:\n",
        "    The modified array.\n",
        "  \"\"\"\n",
        "\n",
        "  i = 0\n",
        "  j = 0\n",
        "  while i < len(nums):\n",
        "    if nums[i] != 0:\n",
        "      nums[j] = nums[i]\n",
        "      j += 1\n",
        "    i += 1\n",
        "\n",
        "  while j < len(nums):\n",
        "    nums[j] = 0\n",
        "    j += 1\n",
        "\n",
        "  return nums\n",
        "\n",
        "\n",
        "def main():\n",
        "  nums = [0, 1, 0, 3, 12]\n",
        "  print(move_zeros(nums))\n",
        "\n",
        "\n",
        "if __name__ == \"__main__\":\n",
        "  main()"
      ],
      "outputs": [],
      "execution_count": null,
      "metadata": {
        "id": "Pk7t1iBWb40i"
      }
    },
    {
      "cell_type": "markdown",
      "source": [
        "This code works by first iterating through the array, and copying all non-zero elements to the front of the array. Then, it fills the remaining elements of the array with zeros.\n",
        "\n",
        "The time complexity of this algorithm is O(n), where n is the length of the array. This is because we need to iterate through the entire array once to copy the non-zero elements, and then again to fill the remaining elements with zeros.\n",
        "\n",
        "The space complexity of this algorithm is O(1), because we are only using a constant amount of additional space to store the non-zero elements.\n",
        "\n",
        "I hope this helps! Let me know if you have any other questions."
      ],
      "metadata": {
        "id": "1I63OTj5b40k"
      }
    }
  ],
  "metadata": {
    "colab": {
      "provenance": [],
      "toc_visible": true,
      "include_colab_link": true
    },
    "kernelspec": {
      "display_name": "Python 3",
      "name": "python3"
    }
  },
  "nbformat": 4,
  "nbformat_minor": 0
}
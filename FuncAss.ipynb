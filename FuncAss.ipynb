{
 "cells": [
  {
   "cell_type": "markdown",
   "id": "355fa9c8-063c-45c7-a211-52717c502662",
   "metadata": {},
   "source": [
    "### Q1\n",
    "def"
   ]
  },
  {
   "cell_type": "code",
   "execution_count": 3,
   "id": "1faf077c-bd12-4795-90fa-9985019775c3",
   "metadata": {},
   "outputs": [
    {
     "data": {
      "text/plain": [
       "[1, 3, 5, 7, 9, 11, 13, 15, 17, 19, 21, 23, 25]"
      ]
     },
     "execution_count": 3,
     "metadata": {},
     "output_type": "execute_result"
    }
   ],
   "source": [
    "def func1():\n",
    "    odd=[]\n",
    "    for num in range(1,26):\n",
    "        if num%2!=0:\n",
    "            odd.append(num)\n",
    "    return odd\n",
    "\n",
    "func1()"
   ]
  },
  {
   "cell_type": "markdown",
   "id": "b87cc451-dd37-4304-a1fb-1e0aa643a03e",
   "metadata": {},
   "source": [
    "### Q2\n",
    "*args and **kwargs is used in the some functions to put multiple arguments in the function. \n"
   ]
  },
  {
   "cell_type": "code",
   "execution_count": 4,
   "id": "2a3f8102-75d2-425d-9239-6efaba0edc8e",
   "metadata": {},
   "outputs": [
    {
     "data": {
      "text/plain": [
       "((3, 234, 2, 23), {'a': 33, 'b': 21})"
      ]
     },
     "execution_count": 4,
     "metadata": {},
     "output_type": "execute_result"
    }
   ],
   "source": [
    "'''To put the n number of arguments '''\n",
    "def test5(*args,**kwargs):\n",
    "    return args,kwargs\n",
    "\n",
    "test5(3,234,2,23,a=33,b=21)"
   ]
  },
  {
   "cell_type": "markdown",
   "id": "64ffd8c2-1e6a-4bad-924d-61b9a0be26b9",
   "metadata": {},
   "source": [
    "### Q3\n",
    "Iterator is basically the variable which iterates to give the values of sequence of a particular function."
   ]
  },
  {
   "cell_type": "code",
   "execution_count": 5,
   "id": "ce271c28-6f7c-4f58-8faa-fccaa0a44eb1",
   "metadata": {},
   "outputs": [
    {
     "name": "stdout",
     "output_type": "stream",
     "text": [
      "2\n",
      "4\n",
      "6\n",
      "8\n",
      "10\n"
     ]
    }
   ],
   "source": [
    "my_list = [2, 4, 6, 8, 10, 12, 14, 16, 18, 20]\n",
    "\n",
    "# create an iterator object from the list\n",
    "my_iter = iter(my_list)\n",
    "\n",
    "# use the next() function to print the first five elements\n",
    "for i in range(5):\n",
    "    print(next(my_iter))\n"
   ]
  },
  {
   "cell_type": "markdown",
   "id": "2292301d-f4f9-4849-83f5-a5e6077c2641",
   "metadata": {},
   "source": [
    "### Q4\n",
    "A generator function is special type of function that uses the yeild keyword to automatically crate an iterator object.\n",
    "When a generator function is called it returns a generator object that can be iterated over using a for loop or the next() function. Each time yeild keyword is encountered the function returns the current value and temporarily suspends its execution saving its state until the next time its called.\n",
    "\n"
   ]
  },
  {
   "cell_type": "code",
   "execution_count": 6,
   "id": "63ddc32c-c9fb-4d83-9e4f-732ecdffd3b0",
   "metadata": {},
   "outputs": [
    {
     "name": "stdout",
     "output_type": "stream",
     "text": [
      "0\n",
      "1\n",
      "1\n",
      "2\n",
      "3\n",
      "5\n",
      "8\n",
      "13\n",
      "21\n",
      "34\n"
     ]
    }
   ],
   "source": [
    "def fibonacci(n):\n",
    "    a, b = 0, 1\n",
    "    for i in range(n):\n",
    "        yield a\n",
    "        a, b = b, a + b\n",
    "for num in fibonacci(10):\n",
    "    print(num)\n"
   ]
  },
  {
   "cell_type": "markdown",
   "id": "3961630f-3ddb-4995-b473-5d9e031ac9a6",
   "metadata": {},
   "source": [
    "### Q5\n",
    "Create a generator function for prime numbers less than 1000. Use the next() method to print the\n",
    "first 20 prime numbers."
   ]
  },
  {
   "cell_type": "code",
   "execution_count": 11,
   "id": "513ecff1-d670-4f7f-811b-3a3c1e6d922b",
   "metadata": {},
   "outputs": [
    {
     "name": "stdout",
     "output_type": "stream",
     "text": [
      "2\n",
      "3\n",
      "5\n",
      "7\n",
      "11\n",
      "13\n",
      "17\n",
      "19\n",
      "23\n",
      "29\n",
      "31\n",
      "37\n",
      "41\n",
      "43\n",
      "47\n",
      "53\n",
      "59\n",
      "61\n",
      "67\n",
      "71\n"
     ]
    }
   ],
   "source": [
    "def prime():\n",
    "    num=2\n",
    "    while True:\n",
    "        is_prime=True\n",
    "        for i in range(2,int(num**0.5)+1):\n",
    "            if num%i==0:\n",
    "                is_prime=False\n",
    "                break\n",
    "        if is_prime:\n",
    "            yield num\n",
    "        num=num+1\n",
    "        if num>=1000:\n",
    "            break\n",
    "prime_generator=prime()\n",
    "for i in range(20):\n",
    "    print(next(prime_generator))"
   ]
  },
  {
   "cell_type": "code",
   "execution_count": null,
   "id": "0ec878e8-0dc1-43f6-9b68-20df0b83cedd",
   "metadata": {},
   "outputs": [],
   "source": []
  }
 ],
 "metadata": {
  "kernelspec": {
   "display_name": "Python 3 (ipykernel)",
   "language": "python",
   "name": "python3"
  },
  "language_info": {
   "codemirror_mode": {
    "name": "ipython",
    "version": 3
   },
   "file_extension": ".py",
   "mimetype": "text/x-python",
   "name": "python",
   "nbconvert_exporter": "python",
   "pygments_lexer": "ipython3",
   "version": "3.10.8"
  }
 },
 "nbformat": 4,
 "nbformat_minor": 5
}
